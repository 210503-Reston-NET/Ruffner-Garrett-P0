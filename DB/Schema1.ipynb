{
    "metadata": {
        "kernelspec": {
            "name": "SQL",
            "display_name": "SQL",
            "language": "sql"
        },
        "language_info": {
            "name": "sql",
            "version": ""
        }
    },
    "nbformat_minor": 2,
    "nbformat": 4,
    "cells": [
        {
            "cell_type": "markdown",
            "source": [
                "Teardown SQL procedure for p0"
            ],
            "metadata": {
                "azdata_cell_guid": "336bcc9e-3893-483d-ae16-bb351bf1e4d9"
            }
        },
        {
            "cell_type": "code",
            "source": [
                "use P0\n",
                "DROP TABLE Locations;\n",
                "\n",
                "\n",
                "DROP TABLE Locations;\n",
                "DROP TABLE Orders;\n",
                "DROP TABLE Items;\n",
                "DROP TABLE Products;\n",
                "DROP TABLE Customers;"
            ],
            "metadata": {
                "azdata_cell_guid": "55ad3a06-dec9-4702-9dc0-9a7d42b311b3"
            },
            "outputs": [
                {
                    "output_type": "error",
                    "evalue": "Msg 3701, Level 11, State 5, Line 2\nCannot drop the table 'Locations', because it does not exist or you do not have permission.",
                    "ename": "",
                    "traceback": []
                },
                {
                    "output_type": "error",
                    "evalue": "Msg 3701, Level 11, State 5, Line 5\nCannot drop the table 'Locations', because it does not exist or you do not have permission.",
                    "ename": "",
                    "traceback": []
                },
                {
                    "output_type": "error",
                    "evalue": "Msg 3701, Level 11, State 5, Line 6\nCannot drop the table 'Orders', because it does not exist or you do not have permission.",
                    "ename": "",
                    "traceback": []
                },
                {
                    "output_type": "display_data",
                    "data": {
                        "text/html": "Total execution time: 00:00:00.066"
                    },
                    "metadata": {}
                }
            ],
            "execution_count": 1
        },
        {
            "cell_type": "markdown",
            "source": [
                "Do I need a Join Table between\n",
                "\n",
                "> Locations - Items \n",
                "> \n",
                "> Orders - Items"
            ],
            "metadata": {
                "azdata_cell_guid": "41015fa8-f8c1-4eb8-80c4-7a9b1ada4d05"
            }
        },
        {
            "cell_type": "code",
            "source": [
                "-- Location Table\n",
                "use p0\n",
                "CREATE TABLE Locations\n",
                "(\n",
                "    LocationID INT PRIMARY KEY NOT NULL IDENTITY(0,1),\n",
                "    Address VARCHAR(50) NOT NULL,\n",
                "    LocationName VARCHAR(50) NOT NULL,\n",
                "    CONSTRAINT unique_location UNIQUE (Address, LocationName)\n",
                ")"
            ],
            "metadata": {
                "azdata_cell_guid": "dfcb89dd-efdd-4628-ba52-25788e1a12f3"
            },
            "outputs": [],
            "execution_count": null
        },
        {
            "cell_type": "code",
            "source": [
                "-- Orders Table\n",
                "use p0\n",
                "CREATE TABLE Orders\n",
                "(\n",
                "    --customer foriegn key\n",
                "    --location foriegn key\n",
                "    --items    linkback sort of thing\n",
                "    --date     datetime\n",
                ")"
            ],
            "metadata": {
                "azdata_cell_guid": "84ba1e2e-aafa-4bbf-ba31-ab2e666cb3a9"
            },
            "outputs": [],
            "execution_count": null
        },
        {
            "cell_type": "code",
            "source": [
                "--Items table\n",
                "--Foreign key of location\n",
                "use p0\n",
                "CREATE TABLE Items\n",
                "(\n",
                "    --Foreign key to reference The relavant locations inventory\n",
                "    -- AKA a linkback\n",
                "    LocationID INT NOT NULL FOREIGN KEY REFERENCES Locations(LocationID),\n",
                "    ProductID INT NOT NULL FOREIGN KEY REFERENCES Products(ID),\n",
                "    Quantity INT CHECK(Quantity >= 0)\n",
                "    --Primary Key is composite between locationID and ProductID\n",
                "    PRIMARY KEY (LocationID, ProductID)\n",
                ")"
            ],
            "metadata": {
                "azdata_cell_guid": "a3ffce8b-2999-4720-bf34-f57fbf905d65"
            },
            "outputs": [
                {
                    "output_type": "display_data",
                    "data": {
                        "text/html": "Commands completed successfully."
                    },
                    "metadata": {}
                },
                {
                    "output_type": "display_data",
                    "data": {
                        "text/html": "Total execution time: 00:00:00.285"
                    },
                    "metadata": {}
                }
            ],
            "execution_count": 3
        },
        {
            "cell_type": "code",
            "source": [
                "--Products Table Definition\n",
                "USE p0\n",
                "CREATE TABLE Products\n",
                "(\n",
                "    ID INT PRIMARY KEY IDENTITY(0,1),\n",
                "    Name VARCHAR(50) UNIQUE NOT NULL,\n",
                "    Price float CHECK (Price >= 0.0)\n",
                ")"
            ],
            "metadata": {
                "azdata_cell_guid": "b7767162-d03c-4808-b539-37b5b842a753"
            },
            "outputs": [
                {
                    "output_type": "display_data",
                    "data": {
                        "text/html": "Commands completed successfully."
                    },
                    "metadata": {}
                },
                {
                    "output_type": "display_data",
                    "data": {
                        "text/html": "Total execution time: 00:00:00.082"
                    },
                    "metadata": {}
                }
            ],
            "execution_count": 1
        },
        {
            "cell_type": "code",
            "source": [
                "--Customer Table Definition\n",
                "USE p0\n",
                "CREATE TABLE Customers\n",
                "(\n",
                "    ID INT PRIMARY KEY IDENTITY(0,1),\n",
                "    Name VARCHAR (50) NOT NULL\n",
                ")"
            ],
            "metadata": {
                "azdata_cell_guid": "fe369177-2dcb-4c63-9acd-298980fc2095",
                "tags": []
            },
            "outputs": [
                {
                    "output_type": "display_data",
                    "data": {
                        "text/html": "Commands completed successfully."
                    },
                    "metadata": {}
                },
                {
                    "output_type": "display_data",
                    "data": {
                        "text/html": "Total execution time: 00:00:00.036"
                    },
                    "metadata": {}
                }
            ],
            "execution_count": 2
        }
    ]
}