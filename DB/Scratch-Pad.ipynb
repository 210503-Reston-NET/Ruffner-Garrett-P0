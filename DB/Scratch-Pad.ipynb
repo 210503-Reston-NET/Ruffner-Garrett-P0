{
    "metadata": {
        "kernelspec": {
            "name": "SQL",
            "display_name": "SQL",
            "language": "sql"
        },
        "language_info": {
            "name": "sql",
            "version": ""
        }
    },
    "nbformat_minor": 2,
    "nbformat": 4,
    "cells": [
        {
            "cell_type": "markdown",
            "source": [
                "Queries"
            ],
            "metadata": {
                "azdata_cell_guid": "664b70fc-8b07-441b-9a55-3487c11bb361"
            }
        },
        {
            "cell_type": "code",
            "source": [
                "use p0;\n",
                "select * from InventoryItems\n",
                "select * from Products"
            ],
            "metadata": {
                "azdata_cell_guid": "8c4e7675-a4b9-4e77-94fd-63f0ebdcee4c"
            },
            "outputs": [
                {
                    "output_type": "display_data",
                    "data": {
                        "text/html": "(1 row affected)"
                    },
                    "metadata": {}
                },
                {
                    "output_type": "display_data",
                    "data": {
                        "text/html": "(1 row affected)"
                    },
                    "metadata": {}
                },
                {
                    "output_type": "display_data",
                    "data": {
                        "text/html": "Total execution time: 00:00:00.039"
                    },
                    "metadata": {}
                },
                {
                    "output_type": "execute_result",
                    "execution_count": 2,
                    "data": {
                        "application/vnd.dataresource+json": {
                            "schema": {
                                "fields": [
                                    {
                                        "name": "LocationID"
                                    },
                                    {
                                        "name": "ProductID"
                                    },
                                    {
                                        "name": "Quantity"
                                    }
                                ]
                            },
                            "data": [
                                {
                                    "0": "0",
                                    "1": "0",
                                    "2": "10"
                                }
                            ]
                        },
                        "text/html": "<table><tr><th>LocationID</th><th>ProductID</th><th>Quantity</th></tr><tr><td>0</td><td>0</td><td>10</td></tr></table>"
                    },
                    "metadata": {}
                },
                {
                    "output_type": "execute_result",
                    "execution_count": 2,
                    "data": {
                        "application/vnd.dataresource+json": {
                            "schema": {
                                "fields": [
                                    {
                                        "name": "ID"
                                    },
                                    {
                                        "name": "Name"
                                    },
                                    {
                                        "name": "Price"
                                    }
                                ]
                            },
                            "data": [
                                {
                                    "0": "0",
                                    "1": "Grand Seiko Spring Drive",
                                    "2": "5000"
                                }
                            ]
                        },
                        "text/html": "<table><tr><th>ID</th><th>Name</th><th>Price</th></tr><tr><td>0</td><td>Grand Seiko Spring Drive</td><td>5000</td></tr></table>"
                    },
                    "metadata": {}
                }
            ],
            "execution_count": 2
        },
        {
            "cell_type": "code",
            "source": [
                "use p0;\n",
                "UPDATE InventoryItems SET Quantity = 10 WHERE (LocationID = 0) AND (ProductID = 0) "
            ],
            "metadata": {
                "azdata_cell_guid": "6879da35-669c-4239-b9a3-2d95b5f0ad52"
            },
            "outputs": [
                {
                    "output_type": "display_data",
                    "data": {
                        "text/html": "(1 row affected)"
                    },
                    "metadata": {}
                },
                {
                    "output_type": "display_data",
                    "data": {
                        "text/html": "Total execution time: 00:00:00.063"
                    },
                    "metadata": {}
                }
            ],
            "execution_count": 13
        },
        {
            "cell_type": "code",
            "source": [
                "use p0;\n",
                "(select * from Orders \n",
                "JOIN OrderItems ON Orders.ID = OrderItems.OrderID\n",
                "Where CustomerID = (select ID from Customers where Name = 'Helter Skelter'))\n",
                "\n",
                "-- still need to get items"
            ],
            "metadata": {
                "azdata_cell_guid": "24df94a2-3bff-497f-b2e2-32cfd51ca785"
            },
            "outputs": [
                {
                    "output_type": "display_data",
                    "data": {
                        "text/html": "(0 rows affected)"
                    },
                    "metadata": {}
                },
                {
                    "output_type": "display_data",
                    "data": {
                        "text/html": "Total execution time: 00:00:00.086"
                    },
                    "metadata": {}
                },
                {
                    "output_type": "execute_result",
                    "execution_count": 1,
                    "data": {
                        "application/vnd.dataresource+json": {
                            "schema": {
                                "fields": [
                                    {
                                        "name": "ID"
                                    },
                                    {
                                        "name": "LocationID"
                                    },
                                    {
                                        "name": "CustomerID"
                                    },
                                    {
                                        "name": "Total"
                                    },
                                    {
                                        "name": "Date"
                                    },
                                    {
                                        "name": "OrderID"
                                    },
                                    {
                                        "name": "ProductID"
                                    },
                                    {
                                        "name": "Quantity"
                                    }
                                ]
                            },
                            "data": []
                        },
                        "text/html": "<table><tr><th>ID</th><th>LocationID</th><th>CustomerID</th><th>Total</th><th>Date</th><th>OrderID</th><th>ProductID</th><th>Quantity</th></tr></table>"
                    },
                    "metadata": {}
                }
            ],
            "execution_count": 1
        },
        {
            "cell_type": "code",
            "source": [
                "SELECT * from Orders;"
            ],
            "metadata": {
                "azdata_cell_guid": "9a489f5c-5638-4039-9689-81fdd4da0d1e"
            },
            "outputs": [
                {
                    "output_type": "display_data",
                    "data": {
                        "text/html": "(1 row affected)"
                    },
                    "metadata": {}
                },
                {
                    "output_type": "display_data",
                    "data": {
                        "text/html": "Total execution time: 00:00:00.036"
                    },
                    "metadata": {}
                },
                {
                    "output_type": "execute_result",
                    "execution_count": 4,
                    "data": {
                        "application/vnd.dataresource+json": {
                            "schema": {
                                "fields": [
                                    {
                                        "name": "ID"
                                    },
                                    {
                                        "name": "LocationID"
                                    },
                                    {
                                        "name": "CustomerID"
                                    },
                                    {
                                        "name": "Total"
                                    },
                                    {
                                        "name": "Date"
                                    }
                                ]
                            },
                            "data": [
                                {
                                    "0": "1",
                                    "1": "0",
                                    "2": "0",
                                    "3": "5000",
                                    "4": "2021-05-14 16:00:20.267"
                                }
                            ]
                        },
                        "text/html": "<table><tr><th>ID</th><th>LocationID</th><th>CustomerID</th><th>Total</th><th>Date</th></tr><tr><td>1</td><td>0</td><td>0</td><td>5000</td><td>2021-05-14 16:00:20.267</td></tr></table>"
                    },
                    "metadata": {}
                }
            ],
            "execution_count": 4
        }
    ]
}