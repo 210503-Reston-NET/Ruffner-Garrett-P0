{
    "metadata": {
        "kernelspec": {
            "name": "SQL",
            "display_name": "SQL",
            "language": "sql"
        },
        "language_info": {
            "name": "sql",
            "version": ""
        }
    },
    "nbformat_minor": 2,
    "nbformat": 4,
    "cells": [
        {
            "cell_type": "markdown",
            "source": [
                "Queries"
            ],
            "metadata": {
                "azdata_cell_guid": "664b70fc-8b07-441b-9a55-3487c11bb361"
            }
        },
        {
            "cell_type": "code",
            "source": [
                "use p0;\n",
                "select * from InventoryItems"
            ],
            "metadata": {
                "azdata_cell_guid": "8c4e7675-a4b9-4e77-94fd-63f0ebdcee4c"
            },
            "outputs": [
                {
                    "output_type": "display_data",
                    "data": {
                        "text/html": "(1 row affected)"
                    },
                    "metadata": {}
                },
                {
                    "output_type": "display_data",
                    "data": {
                        "text/html": "Total execution time: 00:00:00.031"
                    },
                    "metadata": {}
                },
                {
                    "output_type": "execute_result",
                    "execution_count": 18,
                    "data": {
                        "application/vnd.dataresource+json": {
                            "schema": {
                                "fields": [
                                    {
                                        "name": "LocationID"
                                    },
                                    {
                                        "name": "ProductID"
                                    },
                                    {
                                        "name": "Quantity"
                                    }
                                ]
                            },
                            "data": [
                                {
                                    "0": "0",
                                    "1": "0",
                                    "2": "8"
                                }
                            ]
                        },
                        "text/html": "<table><tr><th>LocationID</th><th>ProductID</th><th>Quantity</th></tr><tr><td>0</td><td>0</td><td>8</td></tr></table>"
                    },
                    "metadata": {}
                }
            ],
            "execution_count": 18
        },
        {
            "cell_type": "code",
            "source": [
                "use p0;\n",
                "UPDATE InventoryItems SET Quantity = 10 WHERE (LocationID = 0) AND (ProductID = 0) "
            ],
            "metadata": {
                "azdata_cell_guid": "6879da35-669c-4239-b9a3-2d95b5f0ad52"
            },
            "outputs": [
                {
                    "output_type": "display_data",
                    "data": {
                        "text/html": "(1 row affected)"
                    },
                    "metadata": {}
                },
                {
                    "output_type": "display_data",
                    "data": {
                        "text/html": "Total execution time: 00:00:00.063"
                    },
                    "metadata": {}
                }
            ],
            "execution_count": 13
        },
        {
            "cell_type": "code",
            "source": [
                "use p0;\n",
                "(select * from Orders \n",
                "JOIN OrderItems ON Orders.ID = OrderItems.OrderID\n",
                "Where CustomerID = (select ID from Customers where Name = 'Helter Skelter'))\n",
                "JOIN Customers ON Orders.CustomerID = Customer.ID\n",
                "-- still need to get items"
            ],
            "metadata": {
                "azdata_cell_guid": "24df94a2-3bff-497f-b2e2-32cfd51ca785"
            },
            "outputs": [
                {
                    "output_type": "display_data",
                    "data": {
                        "text/html": "(0 rows affected)"
                    },
                    "metadata": {}
                },
                {
                    "output_type": "display_data",
                    "data": {
                        "text/html": "Total execution time: 00:00:00.353"
                    },
                    "metadata": {}
                },
                {
                    "output_type": "execute_result",
                    "execution_count": 5,
                    "data": {
                        "application/vnd.dataresource+json": {
                            "schema": {
                                "fields": [
                                    {
                                        "name": "ID"
                                    },
                                    {
                                        "name": "LocationID"
                                    },
                                    {
                                        "name": "CustomerID"
                                    },
                                    {
                                        "name": "Total"
                                    },
                                    {
                                        "name": "Date"
                                    },
                                    {
                                        "name": "OrderID"
                                    },
                                    {
                                        "name": "ProductID"
                                    },
                                    {
                                        "name": "Quantity"
                                    }
                                ]
                            },
                            "data": []
                        },
                        "text/html": "<table><tr><th>ID</th><th>LocationID</th><th>CustomerID</th><th>Total</th><th>Date</th><th>OrderID</th><th>ProductID</th><th>Quantity</th></tr></table>"
                    },
                    "metadata": {}
                }
            ],
            "execution_count": 5
        }
    ]
}