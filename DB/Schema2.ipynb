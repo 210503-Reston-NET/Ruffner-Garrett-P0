{
    "metadata": {
        "kernelspec": {
            "name": "SQL",
            "display_name": "SQL",
            "language": "sql"
        },
        "language_info": {
            "name": "sql",
            "version": ""
        }
    },
    "nbformat_minor": 2,
    "nbformat": 4,
    "cells": [
        {
            "cell_type": "markdown",
            "source": [
                "Teardown SQL procedure for p0"
            ],
            "metadata": {
                "azdata_cell_guid": "336bcc9e-3893-483d-ae16-bb351bf1e4d9"
            }
        },
        {
            "cell_type": "code",
            "source": [
                "use P0\n",
                "DROP TABLE InventoryItems;\n",
                "DROP TABLE OrderItems;\n",
                "DROP TABLE Products;\n",
                "DROP TABLE Orders;\n",
                "DROP TABLE Customers;\n",
                "DROP TABLE Locations;"
            ],
            "metadata": {
                "azdata_cell_guid": "55ad3a06-dec9-4702-9dc0-9a7d42b311b3"
            },
            "outputs": [
                {
                    "output_type": "display_data",
                    "data": {
                        "text/html": "Commands completed successfully."
                    },
                    "metadata": {}
                },
                {
                    "output_type": "display_data",
                    "data": {
                        "text/html": "Total execution time: 00:00:00.120"
                    },
                    "metadata": {}
                }
            ],
            "execution_count": 1
        },
        {
            "cell_type": "code",
            "source": [
                "-- Location Table\n",
                "use p0\n",
                "CREATE TABLE Locations\n",
                "(\n",
                "    ID INT PRIMARY KEY NOT NULL IDENTITY(0,1),\n",
                "    Address VARCHAR(50) NOT NULL,\n",
                "    LocationName VARCHAR(50) NOT NULL,\n",
                "    CONSTRAINT unique_location UNIQUE (Address, LocationName)\n",
                ")"
            ],
            "metadata": {
                "azdata_cell_guid": "dfcb89dd-efdd-4628-ba52-25788e1a12f3"
            },
            "outputs": [
                {
                    "output_type": "display_data",
                    "data": {
                        "text/html": "Commands completed successfully."
                    },
                    "metadata": {}
                },
                {
                    "output_type": "display_data",
                    "data": {
                        "text/html": "Total execution time: 00:00:00.043"
                    },
                    "metadata": {}
                }
            ],
            "execution_count": 2
        },
        {
            "cell_type": "code",
            "source": [
                "--Customer Table Definition\n",
                "USE p0\n",
                "CREATE TABLE Customers\n",
                "(\n",
                "    ID INT PRIMARY KEY IDENTITY(0,1),\n",
                "    Name VARCHAR (50) NOT NULL,\n",
                "    Address VARCHAR(100) NOT NULL,\n",
                "    Email VARCHAR(320) NOT NULL\n",
                ")"
            ],
            "metadata": {
                "azdata_cell_guid": "fe369177-2dcb-4c63-9acd-298980fc2095",
                "tags": []
            },
            "outputs": [
                {
                    "output_type": "display_data",
                    "data": {
                        "text/html": "Commands completed successfully."
                    },
                    "metadata": {}
                },
                {
                    "output_type": "display_data",
                    "data": {
                        "text/html": "Total execution time: 00:00:00.044"
                    },
                    "metadata": {}
                }
            ],
            "execution_count": 3
        },
        {
            "cell_type": "code",
            "source": [
                "-- Orders Table\n",
                "use p0\n",
                "CREATE TABLE Orders\n",
                "(\n",
                "    ID INT PRIMARY KEY NOT NULL IDENTITY(0,1),\n",
                "    LocationID INT NOT NULL FOREIGN KEY REFERENCES Locations(ID),\n",
                "    CustomerID INT NOT NULL FOREIGN KEY REFERENCES Customers(ID),\n",
                "    Total float NOT NULL,\n",
                "    Date DATETIME NOT NULL\n",
                ")"
            ],
            "metadata": {
                "azdata_cell_guid": "84ba1e2e-aafa-4bbf-ba31-ab2e666cb3a9"
            },
            "outputs": [
                {
                    "output_type": "display_data",
                    "data": {
                        "text/html": "Commands completed successfully."
                    },
                    "metadata": {}
                },
                {
                    "output_type": "display_data",
                    "data": {
                        "text/html": "Total execution time: 00:00:00.042"
                    },
                    "metadata": {}
                }
            ],
            "execution_count": 4
        },
        {
            "cell_type": "code",
            "source": [
                "--Products Table Definition\n",
                "USE p0\n",
                "CREATE TABLE Products\n",
                "(\n",
                "    ID INT PRIMARY KEY NOT NULL IDENTITY(0,1),\n",
                "    Name VARCHAR(50) UNIQUE NOT NULL,\n",
                "    Price float CHECK (Price >= 0.0)\n",
                ")"
            ],
            "metadata": {
                "azdata_cell_guid": "b7767162-d03c-4808-b539-37b5b842a753"
            },
            "outputs": [
                {
                    "output_type": "display_data",
                    "data": {
                        "text/html": "Commands completed successfully."
                    },
                    "metadata": {}
                },
                {
                    "output_type": "display_data",
                    "data": {
                        "text/html": "Total execution time: 00:00:00.195"
                    },
                    "metadata": {}
                }
            ],
            "execution_count": 5
        },
        {
            "cell_type": "code",
            "source": [
                "--Inventory Items\n",
                "use p0\n",
                "CREATE TABLE InventoryItems\n",
                "(\n",
                "    --Foreign key to reference The relavant locations inventory\n",
                "    -- AKA a linkback\n",
                "    LocationID INT NOT NULL FOREIGN KEY REFERENCES Locations(ID),\n",
                "    ProductID INT NOT NULL FOREIGN KEY REFERENCES Products(ID),\n",
                "    Quantity INT CHECK(Quantity >= 0)\n",
                "    --Primary Key is composite between locationID and ProductID\n",
                "    PRIMARY KEY (LocationID, ProductID)\n",
                ")"
            ],
            "metadata": {
                "azdata_cell_guid": "a3ffce8b-2999-4720-bf34-f57fbf905d65"
            },
            "outputs": [
                {
                    "output_type": "display_data",
                    "data": {
                        "text/html": "Commands completed successfully."
                    },
                    "metadata": {}
                },
                {
                    "output_type": "display_data",
                    "data": {
                        "text/html": "Total execution time: 00:00:00.110"
                    },
                    "metadata": {}
                }
            ],
            "execution_count": 6
        },
        {
            "cell_type": "code",
            "source": [
                "--Order Items\n",
                "use p0\n",
                "CREATE TABLE OrderItems\n",
                "(\n",
                "    OrderID INT NOT NULL FOREIGN KEY REFERENCES Orders(ID),\n",
                "    ProductID INT NOT NULL FOREIGN KEY REFERENCES Products(ID),\n",
                "    Quantity INT CHECK(Quantity >= 0)\n",
                "    --Primary Key is composite between locationID and ProductID\n",
                "    PRIMARY KEY (OrderID, ProductID)\n",
                ")"
            ],
            "metadata": {
                "azdata_cell_guid": "e6019002-50d0-4cdb-b149-2741adc6b1d3"
            },
            "outputs": [
                {
                    "output_type": "display_data",
                    "data": {
                        "text/html": "Commands completed successfully."
                    },
                    "metadata": {}
                },
                {
                    "output_type": "display_data",
                    "data": {
                        "text/html": "Total execution time: 00:00:00.104"
                    },
                    "metadata": {}
                }
            ],
            "execution_count": 7
        }
    ]
}